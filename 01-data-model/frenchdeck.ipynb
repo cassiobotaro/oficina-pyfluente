{
 "cells": [
  {
   "cell_type": "markdown",
   "id": "8683f614",
   "metadata": {},
   "source": [
    "# 1. O modelo de dados do Python\n",
    "\n",
    "## 1.2. Um baralho pythônico\n"
   ]
  },
  {
   "cell_type": "markdown",
   "id": "60e75768-2e07-4fec-a2e9-1489eb9eaef4",
   "metadata": {},
   "source": [
    "### 1.2.1. Classe `Card`"
   ]
  },
  {
   "cell_type": "markdown",
   "id": "a301e6ce",
   "metadata": {},
   "source": [
    "\n",
    "`Card` é um `namedtuple` que representa uma carta de baralho."
   ]
  },
  {
   "cell_type": "code",
   "execution_count": 1,
   "id": "60d128c6",
   "metadata": {},
   "outputs": [],
   "source": [
    "import collections\n",
    "\n",
    "Card = collections.namedtuple('Card', ['rank', 'suit'])"
   ]
  },
  {
   "cell_type": "markdown",
   "id": "612a5505",
   "metadata": {},
   "source": [
    "O \"sete belo\" é conhecido como \"beer card\" nos EUA:"
   ]
  },
  {
   "cell_type": "code",
   "execution_count": 2,
   "id": "f840e176",
   "metadata": {},
   "outputs": [
    {
     "data": {
      "text/plain": [
       "Card(rank='7', suit='diamonds')"
      ]
     },
     "execution_count": 2,
     "metadata": {},
     "output_type": "execute_result"
    }
   ],
   "source": [
    "beer_card = Card('7', 'diamonds')\n",
    "beer_card"
   ]
  },
  {
   "cell_type": "code",
   "execution_count": 3,
   "id": "4e9cf489",
   "metadata": {},
   "outputs": [
    {
     "data": {
      "text/plain": [
       "('7', 'diamonds')"
      ]
     },
     "execution_count": 3,
     "metadata": {},
     "output_type": "execute_result"
    }
   ],
   "source": [
    "beer_card.rank, beer_card.suit"
   ]
  },
  {
   "cell_type": "code",
   "execution_count": 4,
   "id": "087eb2af",
   "metadata": {},
   "outputs": [
    {
     "data": {
      "text/plain": [
       "('7', 'diamonds')"
      ]
     },
     "execution_count": 4,
     "metadata": {},
     "output_type": "execute_result"
    }
   ],
   "source": [
    "beer_card[0], beer_card[1]"
   ]
  },
  {
   "cell_type": "markdown",
   "id": "d5f4a31c",
   "metadata": {},
   "source": [
    "Uma limitação de `namedtuple` é não permitir a declaração de métodos como em uma classe.\n",
    "\n",
    "Não é recomendado, mas é possível acrescentar métodos por [monkey-patch](https://en.wikipedia.org/wiki/Monkey_patch): você define uma função e atribui ela à classe, da mesma forma que criamos atributos em instâncias:"
   ]
  },
  {
   "cell_type": "code",
   "execution_count": 5,
   "id": "d98ced9f",
   "metadata": {},
   "outputs": [
    {
     "data": {
      "text/plain": [
       "'7 of diamonds'"
      ]
     },
     "execution_count": 5,
     "metadata": {},
     "output_type": "execute_result"
    }
   ],
   "source": [
    "def card_to_str(card):\n",
    "    return '%s of %s' % card\n",
    "\n",
    "card_to_str(beer_card)"
   ]
  },
  {
   "cell_type": "markdown",
   "id": "68ac5d52",
   "metadata": {},
   "source": [
    "Agora podemos atribuir a função à classe com o nome especial `__str__`:"
   ]
  },
  {
   "cell_type": "code",
   "execution_count": 6,
   "id": "93100815",
   "metadata": {},
   "outputs": [
    {
     "name": "stdout",
     "output_type": "stream",
     "text": [
      "7 of diamonds\n"
     ]
    }
   ],
   "source": [
    "Card.__str__ = card_to_str\n",
    "print(beer_card)"
   ]
  },
  {
   "cell_type": "markdown",
   "id": "93253972",
   "metadata": {},
   "source": [
    "### 1.2.2. Classe `FrenchDeck`\n",
    "\n",
    "`FrenchDeck` é uma classe que representa um \"baralho francês\", o tipo mais comum no Brasil, com 52 cartas em 4 naipes de 13 cartas."
   ]
  },
  {
   "cell_type": "code",
   "execution_count": 7,
   "id": "12ee5e3f",
   "metadata": {},
   "outputs": [],
   "source": [
    "class FrenchDeck:\n",
    "    ranks = [str(n) for n in range(2, 11)] + list('JQKA')\n",
    "    suits = 'spades diamonds clubs hearts'.split()\n",
    "\n",
    "    def __init__(self):\n",
    "        self._cards = [Card(rank, suit) for suit in self.suits\n",
    "                                        for rank in self.ranks]\n",
    "\n",
    "    def __len__(self):\n",
    "        return len(self._cards)\n",
    "\n",
    "    def __getitem__(self, position):\n",
    "        return self._cards[position]"
   ]
  },
  {
   "cell_type": "markdown",
   "id": "c661f3e5",
   "metadata": {},
   "source": [
    "Veja as operações possíveis com um baralho:"
   ]
  },
  {
   "cell_type": "code",
   "execution_count": 8,
   "id": "585d44bf",
   "metadata": {},
   "outputs": [
    {
     "data": {
      "text/plain": [
       "52"
      ]
     },
     "execution_count": 8,
     "metadata": {},
     "output_type": "execute_result"
    }
   ],
   "source": [
    "deck = FrenchDeck()\n",
    "len(deck)"
   ]
  },
  {
   "cell_type": "code",
   "execution_count": 9,
   "id": "13a6f6df",
   "metadata": {},
   "outputs": [
    {
     "data": {
      "text/plain": [
       "Card(rank='5', suit='spades')"
      ]
     },
     "execution_count": 9,
     "metadata": {},
     "output_type": "execute_result"
    }
   ],
   "source": [
    "deck[3]"
   ]
  },
  {
   "cell_type": "code",
   "execution_count": 10,
   "id": "5ebb8717",
   "metadata": {},
   "outputs": [
    {
     "data": {
      "text/plain": [
       "[Card(rank='2', suit='spades'),\n",
       " Card(rank='3', suit='spades'),\n",
       " Card(rank='4', suit='spades')]"
      ]
     },
     "execution_count": 10,
     "metadata": {},
     "output_type": "execute_result"
    }
   ],
   "source": [
    "deck[:3]"
   ]
  },
  {
   "cell_type": "markdown",
   "id": "8436455b",
   "metadata": {},
   "source": [
    "**Nota**: nesse contexto o Python não usa o `__str__` de `Card`. Se você exibir com `print` uma carta de cada vez, daí o `__str__` é usado.\n",
    "\n",
    "Como `FrenchDeck` implementa `__len__` e `__getitem__`, Python entende que é uma `Sequence` (sequência), então o operador `in` funciona:"
   ]
  },
  {
   "cell_type": "code",
   "execution_count": 11,
   "id": "9cd61a8c",
   "metadata": {},
   "outputs": [
    {
     "data": {
      "text/plain": [
       "True"
      ]
     },
     "execution_count": 11,
     "metadata": {},
     "output_type": "execute_result"
    }
   ],
   "source": [
    "Card('Q', 'hearts') in deck"
   ]
  },
  {
   "cell_type": "markdown",
   "id": "8dcd2565",
   "metadata": {},
   "source": [
    "#### Exercício\n",
    "\n",
    "Crie uma carta que não existe, e verifique que o `in` devolve `False`"
   ]
  },
  {
   "cell_type": "code",
   "execution_count": 12,
   "id": "a22587e9",
   "metadata": {},
   "outputs": [
    {
     "data": {
      "text/plain": [
       "False"
      ]
     },
     "execution_count": 12,
     "metadata": {},
     "output_type": "execute_result"
    }
   ],
   "source": [
    "Card('H', 'hearts') in deck"
   ]
  },
  {
   "cell_type": "markdown",
   "id": "20cec6b8",
   "metadata": {},
   "source": [
    "O laço `for` sabe lidar com sequências:"
   ]
  },
  {
   "cell_type": "code",
   "execution_count": 13,
   "id": "c0dc0afc",
   "metadata": {},
   "outputs": [
    {
     "name": "stdout",
     "output_type": "stream",
     "text": [
      "2 of spades\n",
      "3 of spades\n",
      "4 of spades\n",
      "5 of spades\n",
      "6 of spades\n",
      "7 of spades\n",
      "8 of spades\n",
      "9 of spades\n",
      "10 of spades\n",
      "J of spades\n",
      "Q of spades\n",
      "K of spades\n",
      "A of spades\n",
      "2 of diamonds\n",
      "3 of diamonds\n",
      "4 of diamonds\n",
      "5 of diamonds\n",
      "6 of diamonds\n",
      "7 of diamonds\n",
      "8 of diamonds\n",
      "9 of diamonds\n",
      "10 of diamonds\n",
      "J of diamonds\n",
      "Q of diamonds\n",
      "K of diamonds\n",
      "A of diamonds\n",
      "2 of clubs\n",
      "3 of clubs\n",
      "4 of clubs\n",
      "5 of clubs\n",
      "6 of clubs\n",
      "7 of clubs\n",
      "8 of clubs\n",
      "9 of clubs\n",
      "10 of clubs\n",
      "J of clubs\n",
      "Q of clubs\n",
      "K of clubs\n",
      "A of clubs\n",
      "2 of hearts\n",
      "3 of hearts\n",
      "4 of hearts\n",
      "5 of hearts\n",
      "6 of hearts\n",
      "7 of hearts\n",
      "8 of hearts\n",
      "9 of hearts\n",
      "10 of hearts\n",
      "J of hearts\n",
      "Q of hearts\n",
      "K of hearts\n",
      "A of hearts\n"
     ]
    }
   ],
   "source": [
    "for card in deck:\n",
    "    print(card)"
   ]
  },
  {
   "cell_type": "markdown",
   "id": "bd516e84",
   "metadata": {},
   "source": [
    "Muitos métodos da biblioteca padrão lidam com sequências:"
   ]
  },
  {
   "cell_type": "code",
   "execution_count": 14,
   "id": "6769a93c",
   "metadata": {},
   "outputs": [
    {
     "data": {
      "text/plain": [
       "Card(rank='J', suit='hearts')"
      ]
     },
     "execution_count": 14,
     "metadata": {},
     "output_type": "execute_result"
    }
   ],
   "source": [
    "from random import choice\n",
    "choice(deck)"
   ]
  },
  {
   "cell_type": "markdown",
   "id": "d4607555",
   "metadata": {},
   "source": [
    "Mas a função `shuffle` não funciona. Resolver isso será um exercício logo mais:"
   ]
  },
  {
   "cell_type": "code",
   "execution_count": 15,
   "id": "532acbb6",
   "metadata": {},
   "outputs": [
    {
     "ename": "TypeError",
     "evalue": "'FrenchDeck' object does not support item assignment",
     "output_type": "error",
     "traceback": [
      "\u001b[0;31m---------------------------------------------------------------------------\u001b[0m",
      "\u001b[0;31mTypeError\u001b[0m                                 Traceback (most recent call last)",
      "Cell \u001b[0;32mIn[15], line 4\u001b[0m\n\u001b[1;32m      1\u001b[0m \u001b[38;5;28;01mfrom\u001b[39;00m \u001b[38;5;21;01mrandom\u001b[39;00m \u001b[38;5;28;01mimport\u001b[39;00m shuffle\n\u001b[1;32m      3\u001b[0m \u001b[38;5;66;03m# This should raise a TypeError\u001b[39;00m\n\u001b[0;32m----> 4\u001b[0m \u001b[43mshuffle\u001b[49m\u001b[43m(\u001b[49m\u001b[43mdeck\u001b[49m\u001b[43m)\u001b[49m\n",
      "File \u001b[0;32m~/.asdf/installs/python/3.12.4/lib/python3.12/random.py:357\u001b[0m, in \u001b[0;36mRandom.shuffle\u001b[0;34m(self, x)\u001b[0m\n\u001b[1;32m    354\u001b[0m \u001b[38;5;28;01mfor\u001b[39;00m i \u001b[38;5;129;01min\u001b[39;00m \u001b[38;5;28mreversed\u001b[39m(\u001b[38;5;28mrange\u001b[39m(\u001b[38;5;241m1\u001b[39m, \u001b[38;5;28mlen\u001b[39m(x))):\n\u001b[1;32m    355\u001b[0m     \u001b[38;5;66;03m# pick an element in x[:i+1] with which to exchange x[i]\u001b[39;00m\n\u001b[1;32m    356\u001b[0m     j \u001b[38;5;241m=\u001b[39m randbelow(i \u001b[38;5;241m+\u001b[39m \u001b[38;5;241m1\u001b[39m)\n\u001b[0;32m--> 357\u001b[0m     \u001b[43mx\u001b[49m\u001b[43m[\u001b[49m\u001b[43mi\u001b[49m\u001b[43m]\u001b[49m, x[j] \u001b[38;5;241m=\u001b[39m x[j], x[i]\n",
      "\u001b[0;31mTypeError\u001b[0m: 'FrenchDeck' object does not support item assignment"
     ]
    }
   ],
   "source": [
    "from random import shuffle\n",
    "\n",
    "# This should raise a TypeError\n",
    "shuffle(deck)"
   ]
  },
  {
   "cell_type": "markdown",
   "id": "1a86bf8e",
   "metadata": {},
   "source": [
    "Podemos usar `sorted` para percorrer o baralho em pela ordem de comparação dos elementos das tuplas `Card`:"
   ]
  },
  {
   "cell_type": "code",
   "execution_count": 16,
   "id": "6190c00d",
   "metadata": {},
   "outputs": [
    {
     "name": "stdout",
     "output_type": "stream",
     "text": [
      "10 of clubs\n",
      "10 of diamonds\n",
      "10 of hearts\n",
      "10 of spades\n",
      "2 of clubs\n",
      "2 of diamonds\n",
      "2 of hearts\n",
      "2 of spades\n",
      "3 of clubs\n",
      "3 of diamonds\n",
      "3 of hearts\n",
      "3 of spades\n",
      "4 of clubs\n",
      "4 of diamonds\n",
      "4 of hearts\n",
      "4 of spades\n",
      "5 of clubs\n",
      "5 of diamonds\n",
      "5 of hearts\n",
      "5 of spades\n",
      "6 of clubs\n",
      "6 of diamonds\n",
      "6 of hearts\n",
      "6 of spades\n",
      "7 of clubs\n",
      "7 of diamonds\n",
      "7 of hearts\n",
      "7 of spades\n",
      "8 of clubs\n",
      "8 of diamonds\n",
      "8 of hearts\n",
      "8 of spades\n",
      "9 of clubs\n",
      "9 of diamonds\n",
      "9 of hearts\n",
      "9 of spades\n",
      "A of clubs\n",
      "A of diamonds\n",
      "A of hearts\n",
      "A of spades\n",
      "J of clubs\n",
      "J of diamonds\n",
      "J of hearts\n",
      "J of spades\n",
      "K of clubs\n",
      "K of diamonds\n",
      "K of hearts\n",
      "K of spades\n",
      "Q of clubs\n",
      "Q of diamonds\n",
      "Q of hearts\n",
      "Q of spades\n"
     ]
    }
   ],
   "source": [
    "for card in sorted(deck):\n",
    "    print(card)"
   ]
  },
  {
   "cell_type": "markdown",
   "id": "42bac4c6",
   "metadata": {},
   "source": [
    "Podemos criar uma função que estabelece um critério de ordenação melhor:"
   ]
  },
  {
   "cell_type": "code",
   "execution_count": 17,
   "id": "d5ff533e",
   "metadata": {},
   "outputs": [],
   "source": [
    "suit_values = dict(spades=3, hearts=2, diamonds=1, clubs=0)\n",
    "\n",
    "def spades_high_ordering(card):\n",
    "    rank_value = FrenchDeck.ranks.index(card.rank)\n",
    "    return rank_value * len(suit_values) + suit_values[card.suit]"
   ]
  },
  {
   "cell_type": "code",
   "execution_count": 18,
   "id": "aafe58e2",
   "metadata": {},
   "outputs": [
    {
     "data": {
      "text/plain": [
       "0"
      ]
     },
     "execution_count": 18,
     "metadata": {},
     "output_type": "execute_result"
    }
   ],
   "source": [
    "spades_high_ordering(Card('2', 'clubs'))"
   ]
  },
  {
   "cell_type": "code",
   "execution_count": 19,
   "id": "0f4b2395",
   "metadata": {},
   "outputs": [
    {
     "data": {
      "text/plain": [
       "51"
      ]
     },
     "execution_count": 19,
     "metadata": {},
     "output_type": "execute_result"
    }
   ],
   "source": [
    "spades_high_ordering(Card('A', 'spades'))"
   ]
  },
  {
   "cell_type": "markdown",
   "id": "85198ed8",
   "metadata": {},
   "source": [
    "Daí usamos a função como parâmetro `key` em `sorted`. Várias outras funções da biblioteca padrão que envolvem comparação de itens aceitam o parâmetro `key`."
   ]
  },
  {
   "cell_type": "code",
   "execution_count": 20,
   "id": "d7f7a8cf",
   "metadata": {},
   "outputs": [
    {
     "name": "stdout",
     "output_type": "stream",
     "text": [
      "2 of clubs\n",
      "2 of diamonds\n",
      "2 of hearts\n",
      "2 of spades\n",
      "3 of clubs\n",
      "3 of diamonds\n",
      "3 of hearts\n",
      "3 of spades\n",
      "4 of clubs\n",
      "4 of diamonds\n",
      "4 of hearts\n",
      "4 of spades\n",
      "5 of clubs\n",
      "5 of diamonds\n",
      "5 of hearts\n",
      "5 of spades\n",
      "6 of clubs\n",
      "6 of diamonds\n",
      "6 of hearts\n",
      "6 of spades\n",
      "7 of clubs\n",
      "7 of diamonds\n",
      "7 of hearts\n",
      "7 of spades\n",
      "8 of clubs\n",
      "8 of diamonds\n",
      "8 of hearts\n",
      "8 of spades\n",
      "9 of clubs\n",
      "9 of diamonds\n",
      "9 of hearts\n",
      "9 of spades\n",
      "10 of clubs\n",
      "10 of diamonds\n",
      "10 of hearts\n",
      "10 of spades\n",
      "J of clubs\n",
      "J of diamonds\n",
      "J of hearts\n",
      "J of spades\n",
      "Q of clubs\n",
      "Q of diamonds\n",
      "Q of hearts\n",
      "Q of spades\n",
      "K of clubs\n",
      "K of diamonds\n",
      "K of hearts\n",
      "K of spades\n",
      "A of clubs\n",
      "A of diamonds\n",
      "A of hearts\n",
      "A of spades\n"
     ]
    }
   ],
   "source": [
    "for card in sorted(deck, key=spades_high_ordering):\n",
    "    print(card)"
   ]
  },
  {
   "cell_type": "markdown",
   "id": "52ed3059",
   "metadata": {},
   "source": [
    "#### Exercício\n",
    "\n",
    "Defina uma nova ordem que classifique as cartas primeiro por naipe e depois por valor, de forma que todos os paus venham primeiro, seguidos por todos os ouros, etc."
   ]
  },
  {
   "cell_type": "code",
   "execution_count": 26,
   "id": "b3a7e102",
   "metadata": {},
   "outputs": [
    {
     "name": "stdout",
     "output_type": "stream",
     "text": [
      "2 of clubs\n",
      "3 of clubs\n",
      "4 of clubs\n",
      "5 of clubs\n",
      "6 of clubs\n",
      "7 of clubs\n",
      "8 of clubs\n",
      "9 of clubs\n",
      "10 of clubs\n",
      "J of clubs\n",
      "Q of clubs\n",
      "K of clubs\n",
      "A of clubs\n",
      "2 of diamonds\n",
      "3 of diamonds\n",
      "4 of diamonds\n",
      "5 of diamonds\n",
      "6 of diamonds\n",
      "7 of diamonds\n",
      "8 of diamonds\n",
      "9 of diamonds\n",
      "10 of diamonds\n",
      "J of diamonds\n",
      "Q of diamonds\n",
      "K of diamonds\n",
      "A of diamonds\n",
      "2 of hearts\n",
      "3 of hearts\n",
      "4 of hearts\n",
      "5 of hearts\n",
      "6 of hearts\n",
      "7 of hearts\n",
      "8 of hearts\n",
      "9 of hearts\n",
      "10 of hearts\n",
      "J of hearts\n",
      "Q of hearts\n",
      "K of hearts\n",
      "A of hearts\n",
      "2 of spades\n",
      "3 of spades\n",
      "4 of spades\n",
      "5 of spades\n",
      "6 of spades\n",
      "7 of spades\n",
      "8 of spades\n",
      "9 of spades\n",
      "10 of spades\n",
      "J of spades\n",
      "Q of spades\n",
      "K of spades\n",
      "A of spades\n"
     ]
    }
   ],
   "source": [
    "suit_values = {'clubs': 0, 'diamonds': 1, 'hearts': 2, 'spades': 3}\n",
    "def suits_first_ordering(card):\n",
    "    rank_index = FrenchDeck.ranks.index(card.rank)\n",
    "    return suit_values[card.suit] * len(FrenchDeck.ranks) + rank_index\n",
    "\n",
    "for card in sorted(deck, key=suits_first_ordering):\n",
    "    print(card)"
   ]
  },
  {
   "cell_type": "markdown",
   "id": "efe14ef8",
   "metadata": {},
   "source": [
    "#### Exercício\n",
    "\n",
    "Escreva um método chamado `setcard` que pega um baralho, um índice e uma carta e atribui a carta ao baralho na posição dada.\n",
    "\n",
    "Em seguida, faça um monkey-patch em `FrenchDeck` para fornecer `__setitem__` como método. Teste atribuindo uma nova carta assim:\n",
    "\n",
    "```meu_baralho[0] = Card('A', 'spades')```\n",
    "\n",
    "Então tenter embaralhar usando `random.shuffle`."
   ]
  },
  {
   "cell_type": "code",
   "execution_count": 47,
   "id": "ffa1f986",
   "metadata": {},
   "outputs": [
    {
     "name": "stdout",
     "output_type": "stream",
     "text": [
      "<__main__.FrenchDeck object at 0x7060d8f39850>\n"
     ]
    }
   ],
   "source": [
    "def setcard(deck, position, card):\n",
    "    deck._cards[position] = card\n",
    "    \n",
    "FrenchDeck.__setitem__ = setcard\n",
    "meu_baralho = FrenchDeck()\n",
    "meu_baralho[0] = Card('A', 'spades')\n",
    "\n",
    "import random\n",
    "random.shuffle(meu_baralho)\n",
    "\n",
    "print(meu_baralho[:5])"
   ]
  },
  {
   "cell_type": "markdown",
   "id": "156537c9-ba85-45f9-9c89-8dbac8b6a9de",
   "metadata": {},
   "source": [
    "#### Exercício bônus\n",
    "\n",
    "A operação de fatiamento `x[a:b]` normalmente devolve uma instância da mesma classe de `x`.\n",
    "\n",
    "Será necessário alterar `FrenchDeck` para fazer isso acontecer? Como?\n",
    "\n",
    "**Dica 1:** O compilador de Python transforma `x[a:b]` em `x.__getitem__(slice(a, b))`.  \n",
    "\n",
    "**Dica 2:** Será preciso mexer no construtor de `FrenchDeck`, aceitando uma lista opcional de cartas."
   ]
  },
  {
   "cell_type": "code",
   "execution_count": 51,
   "id": "5cff825c-a396-44e0-a70f-6f65bd97be1f",
   "metadata": {},
   "outputs": [
    {
     "name": "stdout",
     "output_type": "stream",
     "text": [
      "<__main__.FrenchDeck object at 0x7060d8f3f080>\n",
      "2 of spades\n",
      "3 of spades\n",
      "4 of spades\n",
      "5 of spades\n",
      "6 of spades\n"
     ]
    }
   ],
   "source": [
    "class FrenchDeck:\n",
    "    ranks = [str(n) for n in range(2, 11)] + list('JQKA')\n",
    "    suits = 'spades diamonds clubs hearts'.split()\n",
    "\n",
    "    def __init__(self, cards=None):\n",
    "        self._cards = cards or [Card(rank, suit) \n",
    "                                for suit in self.suits\n",
    "                                for rank in self.ranks]\n",
    "\n",
    "    def __len__(self):\n",
    "        return len(self._cards)\n",
    "\n",
    "    def __getitem__(self, position):\n",
    "        match position:\n",
    "            case slice():\n",
    "                return type(self)(self._cards[position])\n",
    "            case _:\n",
    "                return self._cards[position]\n",
    "\n",
    "deck = FrenchDeck()\n",
    "new_deck = deck[:5]\n",
    "\n",
    "print(new_deck)\n",
    "for card in new_deck:\n",
    "    print(card)"
   ]
  },
  {
   "cell_type": "code",
   "execution_count": null,
   "id": "9c3cf1ec-6cfa-4e2d-a258-485397a7479a",
   "metadata": {},
   "outputs": [],
   "source": []
  }
 ],
 "metadata": {
  "kernelspec": {
   "display_name": "Python 3 (ipykernel)",
   "language": "python",
   "name": "python3"
  },
  "language_info": {
   "codemirror_mode": {
    "name": "ipython",
    "version": 3
   },
   "file_extension": ".py",
   "mimetype": "text/x-python",
   "name": "python",
   "nbconvert_exporter": "python",
   "pygments_lexer": "ipython3",
   "version": "3.12.4"
  }
 },
 "nbformat": 4,
 "nbformat_minor": 5
}
