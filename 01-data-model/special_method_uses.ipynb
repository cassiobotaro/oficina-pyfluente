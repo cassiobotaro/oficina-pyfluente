{
 "cells": [
  {
   "cell_type": "markdown",
   "id": "eed3e67d-1d62-4aef-9883-b5f08574714e",
   "metadata": {},
   "source": [
    "## 1.3. Como os métodos especiais são usados\n",
    "\n",
    "* Eles são invocados pelo interpretador Python, mas raramente são invocados pelo código que a gente escreve.\n",
    "\n",
    "* Porque `len()` não é um método?\n",
    "\n",
    "* Muitas chamadas a métodos especiais são implícitas, como no caso da instrução `for`\n",
    "\n",
    "* Também existem funções embutidas associadas a alguns desses métodos, como `len()`, `str()`, `repr()`, `iter()`, etc.\n",
    "\n",
    "### 1.3.1. Emulação de tipos numéricos\n",
    "\n",
    "Ver o exemplo **vector**.\n",
    "\n",
    "### 1.3.2. Representação como string\n",
    "\n",
    "### 1.3.3. Valor booleano de um tipo\n",
    "\n",
    "### 1.3.4. A API de Collection\n",
    "\n",
    "## 1.4. Visão geral de métodos especiais\n"
   ]
  },
  {
   "cell_type": "code",
   "execution_count": null,
   "id": "67531739-66b1-45a9-a689-b448364cec0d",
   "metadata": {},
   "outputs": [],
   "source": []
  }
 ],
 "metadata": {
  "kernelspec": {
   "display_name": "Python 3 (ipykernel)",
   "language": "python",
   "name": "python3"
  },
  "language_info": {
   "codemirror_mode": {
    "name": "ipython",
    "version": 3
   },
   "file_extension": ".py",
   "mimetype": "text/x-python",
   "name": "python",
   "nbconvert_exporter": "python",
   "pygments_lexer": "ipython3",
   "version": "3.12.2"
  }
 },
 "nbformat": 4,
 "nbformat_minor": 5
}
